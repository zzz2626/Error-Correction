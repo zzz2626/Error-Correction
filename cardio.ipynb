{
 "cells": [
  {
   "cell_type": "markdown",
   "metadata": {
    "nbgrader": {
     "grade": false,
     "grade_id": "cell-0dfde00a7c176586",
     "locked": true,
     "schema_version": 3,
     "solution": false,
     "task": false
    }
   },
   "source": [
    "# Final Project\n",
    "\n",
    "This is your final project. It accounts for maximum 20% of the final grade.\n",
    "\n",
    "**Instructions**\n",
    "* You should work on this project either **individually**\n",
    "* This project will be partially **auto-graded** and partially **manually graded**: the auto-grading will check that your answers to the question is correct (or close to be correct) and the manual grading will check your python coding and visualization style. **If your submission fails the auto-grade, you will get 0.** \n",
    "\n",
    "**Note**\n",
    "* Write your code after you see `# YOUR CODE HERE` \n",
    "* Read the instruction of each question. You have a **limited time to submit: Date Time**. Only your last submission counts.\n",
    "* Copying the solution of other student is forbidden.\n",
    "* For each example, the symbol `->` indicates the value the function should return.\n",
    "* After the deadline, submission is only possible by email attachment (.ipynb file) to your TA and cc your instructor. Late submission will be penalized (up to 100%, if late > 72 hours)."
   ]
  },
  {
   "cell_type": "markdown",
   "metadata": {
    "nbgrader": {
     "grade": false,
     "grade_id": "cell-6e21e3e162115c90",
     "locked": true,
     "schema_version": 3,
     "solution": false,
     "task": false
    }
   },
   "source": [
    "**Project Description**\n",
    "\n",
    "This data set `CardioGoodFitness.csv` is for customers of the treadmill product(s) of a retail store called Cardio Good Fitness. It contains the following variables `Product`, `Age`, `Gender`, `Education`, `MaritalStatus`, `Usage`, `Fitness`, `Income`, and `Miles`. \n",
    "\n",
    "* `Product`: the model of the treadmill\n",
    "\n",
    "* `Age`: in number of years, of the customer\n",
    "\n",
    "* `Gender`: of the customer\n",
    "\n",
    "* `Education`: in number of years, of the customer\n",
    "\n",
    "* `MaritalStatus`: of the customer\n",
    "\n",
    "* `Usage`: average number of times the customer wants to use the treadmill per week\n",
    "\n",
    "* `Fitness`: self rated fitness score of the customer (5 - very fit, 1 - very unfit)\n",
    "\n",
    "* `Income`: of the customer\n",
    "\n",
    "* `Miles`: expected to run\n",
    "\n",
    "\n",
    "\n",
    "To understand products, your project focuses on the following two parts:\n",
    "1. Process and analyze the data \n",
    "2. Create visualizations\n",
    "\n",
    "\n",
    "\n",
    "**Guidelines**\n",
    "* You will read instructions and hints carefully and apply your best judgement to answer the questions.\n",
    "* For each question, you need to write Python codes to answer and you need to assign the value to a variable.\n",
    "* For Part 1, you need to store your answers in the `answers` dictionary with keys \"1\", \"2\", \"3\", ... \"10\" and corresponding values (the answer to each question)."
   ]
  },
  {
   "cell_type": "code",
   "execution_count": 1,
   "metadata": {
    "ExecuteTime": {
     "end_time": "2022-12-01T00:58:17.793632Z",
     "start_time": "2022-12-01T00:58:16.513741Z"
    },
    "nbgrader": {
     "grade": false,
     "grade_id": "cell-13828650a2cce585",
     "locked": true,
     "schema_version": 3,
     "solution": false,
     "task": false
    }
   },
   "outputs": [],
   "source": [
    "# You will need to import these two packages.\n",
    "import pandas as pd\n",
    "import matplotlib.pyplot as plt"
   ]
  },
  {
   "cell_type": "code",
   "execution_count": 2,
   "metadata": {
    "ExecuteTime": {
     "end_time": "2022-12-01T00:58:17.863827Z",
     "start_time": "2022-12-01T00:58:17.796065Z"
    },
    "nbgrader": {
     "grade": false,
     "grade_id": "cell-b62dfc2d227b23cb",
     "locked": true,
     "schema_version": 3,
     "solution": false,
     "task": false
    }
   },
   "outputs": [
    {
     "data": {
      "text/html": [
       "<div>\n",
       "<style scoped>\n",
       "    .dataframe tbody tr th:only-of-type {\n",
       "        vertical-align: middle;\n",
       "    }\n",
       "\n",
       "    .dataframe tbody tr th {\n",
       "        vertical-align: top;\n",
       "    }\n",
       "\n",
       "    .dataframe thead th {\n",
       "        text-align: right;\n",
       "    }\n",
       "</style>\n",
       "<table border=\"1\" class=\"dataframe\">\n",
       "  <thead>\n",
       "    <tr style=\"text-align: right;\">\n",
       "      <th></th>\n",
       "      <th>Product</th>\n",
       "      <th>Age</th>\n",
       "      <th>Gender</th>\n",
       "      <th>Education</th>\n",
       "      <th>MaritalStatus</th>\n",
       "      <th>Usage</th>\n",
       "      <th>Fitness</th>\n",
       "      <th>Income</th>\n",
       "      <th>Miles</th>\n",
       "    </tr>\n",
       "  </thead>\n",
       "  <tbody>\n",
       "    <tr>\n",
       "      <th>0</th>\n",
       "      <td>TM195</td>\n",
       "      <td>18</td>\n",
       "      <td>Male</td>\n",
       "      <td>14</td>\n",
       "      <td>Single</td>\n",
       "      <td>3</td>\n",
       "      <td>4</td>\n",
       "      <td>29562</td>\n",
       "      <td>112</td>\n",
       "    </tr>\n",
       "    <tr>\n",
       "      <th>1</th>\n",
       "      <td>TM195</td>\n",
       "      <td>19</td>\n",
       "      <td>Male</td>\n",
       "      <td>15</td>\n",
       "      <td>Single</td>\n",
       "      <td>2</td>\n",
       "      <td>3</td>\n",
       "      <td>31836</td>\n",
       "      <td>75</td>\n",
       "    </tr>\n",
       "    <tr>\n",
       "      <th>2</th>\n",
       "      <td>TM195</td>\n",
       "      <td>19</td>\n",
       "      <td>Female</td>\n",
       "      <td>14</td>\n",
       "      <td>Partnered</td>\n",
       "      <td>4</td>\n",
       "      <td>3</td>\n",
       "      <td>30699</td>\n",
       "      <td>66</td>\n",
       "    </tr>\n",
       "    <tr>\n",
       "      <th>3</th>\n",
       "      <td>TM195</td>\n",
       "      <td>19</td>\n",
       "      <td>Male</td>\n",
       "      <td>12</td>\n",
       "      <td>Single</td>\n",
       "      <td>3</td>\n",
       "      <td>3</td>\n",
       "      <td>32973</td>\n",
       "      <td>85</td>\n",
       "    </tr>\n",
       "    <tr>\n",
       "      <th>4</th>\n",
       "      <td>TM195</td>\n",
       "      <td>20</td>\n",
       "      <td>Male</td>\n",
       "      <td>13</td>\n",
       "      <td>Partnered</td>\n",
       "      <td>4</td>\n",
       "      <td>2</td>\n",
       "      <td>35247</td>\n",
       "      <td>47</td>\n",
       "    </tr>\n",
       "  </tbody>\n",
       "</table>\n",
       "</div>"
      ],
      "text/plain": [
       "  Product  Age  Gender  Education MaritalStatus  Usage  Fitness  Income  Miles\n",
       "0   TM195   18    Male         14        Single      3        4   29562    112\n",
       "1   TM195   19    Male         15        Single      2        3   31836     75\n",
       "2   TM195   19  Female         14     Partnered      4        3   30699     66\n",
       "3   TM195   19    Male         12        Single      3        3   32973     85\n",
       "4   TM195   20    Male         13     Partnered      4        2   35247     47"
      ]
     },
     "execution_count": 2,
     "metadata": {},
     "output_type": "execute_result"
    }
   ],
   "source": [
    "# This is your dataset.\n",
    "data = pd.read_csv(\"CardioGoodFitness.csv\")\n",
    "data.head()"
   ]
  },
  {
   "cell_type": "markdown",
   "metadata": {
    "nbgrader": {
     "grade": false,
     "grade_id": "cell-923a77bedc4dc3dd",
     "locked": true,
     "schema_version": 3,
     "solution": false,
     "task": false
    }
   },
   "source": [
    "## Questions (50 points)\n",
    "\n",
    "Run preliminary data analysis on the dataset to answer the following questions:\n",
    "\n",
    "1. How many records in the dataset?\n",
    "\n",
    "2. How many unique products in the dataset?\n",
    "\n",
    "3. What is the largest age difference in the dataset (maximun age - minimum age)?\n",
    "\n",
    "4. What is ratio between 'Female' and 'Male' in the column 'Gender' (Female/Male)?\n",
    "\n",
    "5. What is the median year of education of the customers in the dataset?\n",
    "\n",
    "6. How many of the customers are not single?\n",
    "\n",
    "7. How frequent do customers want to use the treadmill per week in average?\n",
    "\n",
    "8. What is the percentage of customers self rated to be very fit (in float, e.g., 0.12)?\n",
    "\n",
    "9. What is the highest income in the dataset? \n",
    "\n",
    "10. How many customers expected to run farther than 150 miles (150 not included)?\n",
    "\n",
    "Write all your answers in a dictionary named `answers`. This dictionary has keys `\"1\", \"2\", \"3\", ... \"10\"` and values `a1, a2, a3, ... a10` respectively. (e.g., a1 is the variable storing the answer to question 1)"
   ]
  },
  {
   "cell_type": "code",
   "execution_count": 3,
   "metadata": {
    "ExecuteTime": {
     "end_time": "2022-12-01T00:58:17.876637Z",
     "start_time": "2022-12-01T00:58:17.869229Z"
    },
    "nbgrader": {
     "grade": false,
     "grade_id": "cell-73867e4d85b27570",
     "locked": false,
     "schema_version": 3,
     "solution": true,
     "task": false
    }
   },
   "outputs": [],
   "source": [
    "# 1. How many records in the dataset?\n",
    "\n",
    "### BEGIN SOLUTION\n",
    "a1 = len(data) # 180\n",
    "### END SOLUTION"
   ]
  },
  {
   "cell_type": "code",
   "execution_count": 4,
   "metadata": {},
   "outputs": [],
   "source": [
    "# 2. How many unique products in the dataset?\n",
    "\n",
    "### BEGIN SOLUTION\n",
    "a2 = len(set(data['Product'].tolist())) # 3\n",
    "### END SOLUTION"
   ]
  },
  {
   "cell_type": "code",
   "execution_count": 5,
   "metadata": {
    "ExecuteTime": {
     "end_time": "2022-12-01T00:58:17.891671Z",
     "start_time": "2022-12-01T00:58:17.878473Z"
    },
    "nbgrader": {
     "grade": false,
     "grade_id": "cell-4a32a7e382aa7d5f",
     "locked": false,
     "schema_version": 3,
     "solution": true,
     "task": false
    }
   },
   "outputs": [],
   "source": [
    "# 3. What is the largest age difference in the dataset (maximun age - minimum age)?\n",
    "\n",
    "### BEGIN SOLUTION\n",
    "age_max = data['Age'].max()\n",
    "age_min = data['Age'].min()\n",
    "a3 = age_max - age_min # 32\n",
    "### END SOLUTION"
   ]
  },
  {
   "cell_type": "code",
   "execution_count": 6,
   "metadata": {},
   "outputs": [],
   "source": [
    "# 4. What is ratio between 'Female' and 'Male' in the column 'Gender' (Female/Male)?\n",
    "\n",
    "### BEGIN SOLUTION\n",
    "female = len(data[data['Gender'] == 'Female'])\n",
    "male = len(data[data['Gender'] == 'Male'])\n",
    "a4 = female/male # 0.7307692307692307\n",
    "### END SOLUTION"
   ]
  },
  {
   "cell_type": "code",
   "execution_count": 7,
   "metadata": {
    "ExecuteTime": {
     "end_time": "2022-12-01T00:58:17.913959Z",
     "start_time": "2022-12-01T00:58:17.894234Z"
    },
    "nbgrader": {
     "grade": false,
     "grade_id": "cell-ecdea45824738ae1",
     "locked": false,
     "schema_version": 3,
     "solution": true,
     "task": false
    }
   },
   "outputs": [],
   "source": [
    "# 5. What is the median year of education of the customers in the dataset?\n",
    "\n",
    "### BEGIN SOLUTION\n",
    "a5 = data['Education'].median() # 16\n",
    "### END SOLUTION"
   ]
  },
  {
   "cell_type": "code",
   "execution_count": 8,
   "metadata": {},
   "outputs": [],
   "source": [
    "# 6. How many of the customers are not single?\n",
    "\n",
    "### BEGIN SOLUTION\n",
    "a6 = len(data[data['MaritalStatus'] == 'Partnered']) # 107\n",
    "### END SOLUTION"
   ]
  },
  {
   "cell_type": "code",
   "execution_count": 9,
   "metadata": {},
   "outputs": [],
   "source": [
    "# 7. How frequent do customers want to use the treadmill per week in average?\n",
    "\n",
    "### BEGIN SOLUTION\n",
    "a7 = data['Usage'].mean() # 3.4555555555555557\n",
    "### END SOLUTION"
   ]
  },
  {
   "cell_type": "code",
   "execution_count": 10,
   "metadata": {},
   "outputs": [],
   "source": [
    "# 8. What is the percentage of customers self rated to be very fit (in float, e.g., 0.12)?\n",
    "\n",
    "### BEGIN SOLUTION\n",
    "a8 = len(data[data['Fitness'] == 5])/a1 # 0.17222222222222222\n",
    "### END SOLUTION"
   ]
  },
  {
   "cell_type": "code",
   "execution_count": 11,
   "metadata": {},
   "outputs": [],
   "source": [
    "# 9. What is the highest income in the dataset?\n",
    "\n",
    "### BEGIN SOLUTION\n",
    "a9 = data['Income'].max() # 104581\n",
    "### END SOLUTION"
   ]
  },
  {
   "cell_type": "code",
   "execution_count": 12,
   "metadata": {},
   "outputs": [],
   "source": [
    "# 10. How many customers expected to run farther than 150 miles (150 not included)?\n",
    "\n",
    "### BEGIN SOLUTION\n",
    "a10 = len(data[data['Miles'] > 150]) # 28\n",
    "### END SOLUTION"
   ]
  },
  {
   "cell_type": "code",
   "execution_count": 13,
   "metadata": {
    "ExecuteTime": {
     "end_time": "2022-12-01T00:58:18.445607Z",
     "start_time": "2022-12-01T00:58:18.442051Z"
    },
    "nbgrader": {
     "grade": false,
     "grade_id": "cell-3fadcd5e40a4c967",
     "locked": false,
     "schema_version": 3,
     "solution": true,
     "task": false
    }
   },
   "outputs": [],
   "source": [
    "# Write all your answer in a dictionary named answers. \n",
    "# Important: Your dictionary MUST be named 'answers'.\n",
    "# This dictionary has keys `\"1\", \"2\", \"3\", ... \"10\"` and values `a1, a2, a3, ... a10` respectively. \n",
    "# (e.g., a1 is the variable storing the answer to question 1)\n",
    "\n",
    "### BEGIN SOLUTION\n",
    "answers = {\"1\": a1, \n",
    "           \"2\": a2,\n",
    "           \"3\": a3,\n",
    "           \"4\": a4,\n",
    "           \"5\": a5,\n",
    "           \"6\": a6,\n",
    "           \"7\": a7,\n",
    "           \"8\": a8,\n",
    "           \"9\": a9,\n",
    "           \"10\": a10}\n",
    "### END SOLUTION"
   ]
  },
  {
   "cell_type": "code",
   "execution_count": 14,
   "metadata": {
    "ExecuteTime": {
     "end_time": "2022-12-01T00:58:18.455047Z",
     "start_time": "2022-12-01T00:58:18.447441Z"
    },
    "nbgrader": {
     "grade": true,
     "grade_id": "cell-922cf439b3c0695e",
     "locked": true,
     "points": 0,
     "schema_version": 3,
     "solution": false,
     "task": false
    }
   },
   "outputs": [],
   "source": [
    "# This code should run without errors\n",
    "try:\n",
    "    answers[\"1\"]\n",
    "except:\n",
    "    raise NotImplementedError()"
   ]
  },
  {
   "cell_type": "code",
   "execution_count": 15,
   "metadata": {
    "ExecuteTime": {
     "end_time": "2022-12-01T00:58:18.464597Z",
     "start_time": "2022-12-01T00:58:18.457192Z"
    },
    "nbgrader": {
     "grade": true,
     "grade_id": "cell-ec02594ec1b88dfe",
     "locked": true,
     "points": 3,
     "schema_version": 3,
     "solution": false,
     "task": false
    }
   },
   "outputs": [],
   "source": [
    "### BEGIN HIDDEN TESTS\n",
    "assert answers[\"1\"] == 180\n",
    "### END HIDDEN TESTS"
   ]
  },
  {
   "cell_type": "code",
   "execution_count": 16,
   "metadata": {
    "ExecuteTime": {
     "end_time": "2022-12-01T00:58:18.473998Z",
     "start_time": "2022-12-01T00:58:18.466975Z"
    },
    "nbgrader": {
     "grade": true,
     "grade_id": "cell-4468c011de369a20",
     "locked": true,
     "points": 4,
     "schema_version": 3,
     "solution": false,
     "task": false
    }
   },
   "outputs": [],
   "source": [
    "### BEGIN HIDDEN TESTS\n",
    "assert answers[\"2\"] == 3\n",
    "### END HIDDEN TESTS"
   ]
  },
  {
   "cell_type": "code",
   "execution_count": 17,
   "metadata": {
    "ExecuteTime": {
     "end_time": "2022-12-01T00:58:18.484042Z",
     "start_time": "2022-12-01T00:58:18.476442Z"
    },
    "nbgrader": {
     "grade": true,
     "grade_id": "cell-f5573ce9714dc71d",
     "locked": true,
     "points": 4,
     "schema_version": 3,
     "solution": false,
     "task": false
    }
   },
   "outputs": [],
   "source": [
    "### BEGIN HIDDEN TESTS\n",
    "assert answers[\"3\"] == 32\n",
    "### END HIDDEN TESTS"
   ]
  },
  {
   "cell_type": "code",
   "execution_count": 18,
   "metadata": {
    "ExecuteTime": {
     "end_time": "2022-12-01T00:58:18.494012Z",
     "start_time": "2022-12-01T00:58:18.486756Z"
    },
    "nbgrader": {
     "grade": true,
     "grade_id": "cell-20f63b74758c8ab4",
     "locked": true,
     "points": 4,
     "schema_version": 3,
     "solution": false,
     "task": false
    }
   },
   "outputs": [],
   "source": [
    "### BEGIN HIDDEN TESTS\n",
    "assert abs(answers[\"4\"] - 0.7307692307692307)  < 0.1\n",
    "### END HIDDEN TESTS"
   ]
  },
  {
   "cell_type": "code",
   "execution_count": 19,
   "metadata": {
    "ExecuteTime": {
     "end_time": "2022-12-01T00:58:18.503632Z",
     "start_time": "2022-12-01T00:58:18.496603Z"
    },
    "nbgrader": {
     "grade": true,
     "grade_id": "cell-7a7d342bad8a81c9",
     "locked": true,
     "points": 4,
     "schema_version": 3,
     "solution": false,
     "task": false
    }
   },
   "outputs": [],
   "source": [
    "### BEGIN HIDDEN TESTS\n",
    "assert answers[\"5\"] == 16\n",
    "### END HIDDEN TESTS"
   ]
  },
  {
   "cell_type": "code",
   "execution_count": 20,
   "metadata": {
    "ExecuteTime": {
     "end_time": "2022-12-01T00:58:18.513433Z",
     "start_time": "2022-12-01T00:58:18.506206Z"
    },
    "nbgrader": {
     "grade": true,
     "grade_id": "cell-b91c45975649d88f",
     "locked": true,
     "points": 4,
     "schema_version": 3,
     "solution": false,
     "task": false
    }
   },
   "outputs": [],
   "source": [
    "### BEGIN HIDDEN TESTS\n",
    "assert answers[\"6\"] == 107\n",
    "### END HIDDEN TESTS"
   ]
  },
  {
   "cell_type": "code",
   "execution_count": 21,
   "metadata": {
    "ExecuteTime": {
     "end_time": "2022-12-01T00:58:18.524111Z",
     "start_time": "2022-12-01T00:58:18.516195Z"
    },
    "nbgrader": {
     "grade": true,
     "grade_id": "cell-3260bb54127227be",
     "locked": true,
     "points": 4,
     "schema_version": 3,
     "solution": false,
     "task": false
    }
   },
   "outputs": [],
   "source": [
    "### BEGIN HIDDEN TESTS\n",
    "assert abs(answers[\"7\"] - 3.4555555555555557)  < 0.1\n",
    "### END HIDDEN TESTS"
   ]
  },
  {
   "cell_type": "code",
   "execution_count": 22,
   "metadata": {
    "ExecuteTime": {
     "end_time": "2022-12-01T00:58:18.534224Z",
     "start_time": "2022-12-01T00:58:18.526784Z"
    },
    "nbgrader": {
     "grade": true,
     "grade_id": "cell-92feaf38e7e9cb20",
     "locked": true,
     "points": 4,
     "schema_version": 3,
     "solution": false,
     "task": false
    }
   },
   "outputs": [],
   "source": [
    "### BEGIN HIDDEN TESTS\n",
    "assert abs(answers[\"8\"] - 0.17222222222222222)  < 0.1\n",
    "### END HIDDEN TESTS"
   ]
  },
  {
   "cell_type": "code",
   "execution_count": 23,
   "metadata": {
    "ExecuteTime": {
     "end_time": "2022-12-01T00:58:18.544597Z",
     "start_time": "2022-12-01T00:58:18.536686Z"
    },
    "nbgrader": {
     "grade": true,
     "grade_id": "cell-bfd29bcc31b3ff08",
     "locked": true,
     "points": 4,
     "schema_version": 3,
     "solution": false,
     "task": false
    }
   },
   "outputs": [],
   "source": [
    "### BEGIN HIDDEN TESTS\n",
    "assert answers[\"9\"] == 104581\n",
    "### END HIDDEN TESTS"
   ]
  },
  {
   "cell_type": "code",
   "execution_count": 24,
   "metadata": {
    "ExecuteTime": {
     "end_time": "2022-12-01T00:58:18.554930Z",
     "start_time": "2022-12-01T00:58:18.547243Z"
    },
    "nbgrader": {
     "grade": true,
     "grade_id": "cell-a6a9afeff501a966",
     "locked": true,
     "points": 5,
     "schema_version": 3,
     "solution": false,
     "task": false
    }
   },
   "outputs": [],
   "source": [
    "### BEGIN HIDDEN TESTS\n",
    "assert answers[\"10\"] == 28\n",
    "### END HIDDEN TESTS"
   ]
  },
  {
   "cell_type": "markdown",
   "metadata": {
    "nbgrader": {
     "grade": false,
     "grade_id": "cell-24e7efe773ce1cd0",
     "locked": true,
     "schema_version": 3,
     "solution": false,
     "task": false
    }
   },
   "source": [
    "## Visualization (50 points)\n",
    "\n",
    "You should create plots using the dataset. Your python coding, visualization style, and the appearance of the plots will be manually graded."
   ]
  },
  {
   "cell_type": "code",
   "execution_count": 25,
   "metadata": {
    "ExecuteTime": {
     "end_time": "2022-12-01T00:58:18.852226Z",
     "start_time": "2022-12-01T00:58:18.557652Z"
    },
    "nbgrader": {
     "grade": true,
     "grade_id": "cell-32e5094c97d10c15",
     "locked": false,
     "points": 20,
     "schema_version": 3,
     "solution": true,
     "task": false
    }
   },
   "outputs": [
    {
     "data": {
      "image/png": "[encoded data removed]",
      "text/plain": [
       "<Figure size 640x480 with 1 Axes>"
      ]
     },
     "metadata": {},
     "output_type": "display_data"
    }
   ],
   "source": [
    "# 1. Create a pie chart of products in the dataset. \n",
    "\n",
    "### BEGIN SOLUTION\n",
    "data.groupby('Product').size().plot(kind='pie')\n",
    "plt.show()\n",
    "### END SOLUTION"
   ]
  },
  {
   "cell_type": "code",
   "execution_count": 26,
   "metadata": {},
   "outputs": [
    {
     "data": {
      "image/png": "[encoded data removed]",
      "text/plain": [
       "<Figure size 640x480 with 1 Axes>"
      ]
     },
     "metadata": {},
     "output_type": "display_data"
    }
   ],
   "source": [
    "# 2. Create the distribution of self rated fitness score of the customers.\n",
    "\n",
    "### BEGIN SOLUTION\n",
    "data['Fitness'].plot(kind='hist')\n",
    "plt.show()\n",
    "### END SOLUTION"
   ]
  },
  {
   "cell_type": "code",
   "execution_count": 27,
   "metadata": {},
   "outputs": [
    {
     "data": {
      "image/png": "[encoded data removed]",
      "text/plain": [
       "<Figure size 1500x1000 with 1 Axes>"
      ]
     },
     "metadata": {},
     "output_type": "display_data"
    }
   ],
   "source": [
    "# 3. Draw horizontal barplots of MaritalStatus (on y-axis) and Income (on x-axis) with gender distinction.\n",
    "\n",
    "### BEGIN SOLUTION\n",
    "import seaborn as sns\n",
    "sns.set_theme(style='whitegrid', palette='muted')\n",
    "fig, ax = plt.subplots(figsize=(15,10))\n",
    "ax = sns.barplot(data=data, x='Income', y='MaritalStatus', palette='ch:30', hue='Gender')\n",
    "plt.show()\n",
    "### END SOLUTION"
   ]
  }
 ],
 "metadata": {
  "celltoolbar": "Create Assignment",
  "kernelspec": {
   "display_name": "Python 3 (ipykernel)",
   "language": "python",
   "name": "python3"
  },
  "language_info": {
   "codemirror_mode": {
    "name": "ipython",
    "version": 3
   },
   "file_extension": ".py",
   "mimetype": "text/x-python",
   "name": "python",
   "nbconvert_exporter": "python",
   "pygments_lexer": "ipython3",
   "version": "3.10.9"
  },
  "latex_envs": {
   "LaTeX_envs_menu_present": true,
   "autoclose": false,
   "autocomplete": true,
   "bibliofile": "biblio.bib",
   "cite_by": "apalike",
   "current_citInitial": 1,
   "eqLabelWithNumbers": true,
   "eqNumInitial": 1,
   "hotkeys": {
    "equation": "Ctrl-E",
    "itemize": "Ctrl-I"
   },
   "labels_anchors": false,
   "latex_user_defs": false,
   "report_style_numbering": false,
   "user_envs_cfg": false
  },
  "toc": {
   "base_numbering": 1,
   "nav_menu": {},
   "number_sections": true,
   "sideBar": true,
   "skip_h1_title": true,
   "title_cell": "Table of Contents",
   "title_sidebar": "Contents",
   "toc_cell": false,
   "toc_position": {
    "height": "calc(100% - 180px)",
    "left": "10px",
    "top": "150px",
    "width": "169px"
   },
   "toc_section_display": true,
   "toc_window_display": true
  }
 },
 "nbformat": 4,
 "nbformat_minor": 4
}
