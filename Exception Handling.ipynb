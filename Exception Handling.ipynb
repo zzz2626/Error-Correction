{
 "cells": [
  {
   "cell_type": "code",
   "execution_count": 11,
   "id": "aa03217b",
   "metadata": {
    "ExecuteTime": {
     "end_time": "2024-12-13T12:59:18.296191Z",
     "start_time": "2024-12-13T12:59:18.201710Z"
    }
   },
   "outputs": [
    {
     "name": "stdout",
     "output_type": "stream",
     "text": [
      "Count of Females: 110\n",
      "Count of Males: 90\n",
      "Ratio of Females to Males: 1.2222222222222223\n"
     ]
    }
   ],
   "source": [
    "import pandas as pd\n",
    "import matplotlib.pyplot as plt\n",
    "data = pd.read_csv(\"TechGadgetSales.csv\")\n",
    "\n",
    "# Find the occurrences of these two genders\n",
    "gender_counts = data['Gender'].value_counts()\n",
    "\n",
    "# Get the number of Female and Male, defaulting their counts to 0\n",
    "female_count = gender_counts.get('Female', 0)\n",
    "male_count = gender_counts.get('Male', 0)\n",
    "\n",
    "# Handle the exception and calculate the ratio\n",
    "if male_count == 0:\n",
    "    if female_count == 0:\n",
    "        ratio = None  # No data for both genders\n",
    "    else:\n",
    "        ratio = float('inf')  # Infinite ratio if the number of male is zero\n",
    "else:\n",
    "    ratio = female_count / male_count\n",
    "\n",
    "# Print results\n",
    "print(f\"Count of Females: {count_female}\")\n",
    "print(f\"Count of Males: {count_male}\")\n",
    "print(f\"Ratio of Females to Males: {ratio if ratio is not None else 'Undefined'}\")"
   ]
  }
 ],
 "metadata": {
  "kernelspec": {
   "display_name": "Python 3 (ipykernel)",
   "language": "python",
   "name": "python3"
  },
  "language_info": {
   "codemirror_mode": {
    "name": "ipython",
    "version": 3
   },
   "file_extension": ".py",
   "mimetype": "text/x-python",
   "name": "python",
   "nbconvert_exporter": "python",
   "pygments_lexer": "ipython3",
   "version": "3.8.10"
  },
  "latex_envs": {
   "LaTeX_envs_menu_present": true,
   "autoclose": false,
   "autocomplete": true,
   "bibliofile": "biblio.bib",
   "cite_by": "apalike",
   "current_citInitial": 1,
   "eqLabelWithNumbers": true,
   "eqNumInitial": 1,
   "hotkeys": {
    "equation": "Ctrl-E",
    "itemize": "Ctrl-I"
   },
   "labels_anchors": false,
   "latex_user_defs": false,
   "report_style_numbering": false,
   "user_envs_cfg": false
  },
  "toc": {
   "base_numbering": 1,
   "nav_menu": {},
   "number_sections": true,
   "sideBar": true,
   "skip_h1_title": false,
   "title_cell": "Table of Contents",
   "title_sidebar": "Contents",
   "toc_cell": false,
   "toc_position": {},
   "toc_section_display": true,
   "toc_window_display": false
  }
 },
 "nbformat": 4,
 "nbformat_minor": 5
}
